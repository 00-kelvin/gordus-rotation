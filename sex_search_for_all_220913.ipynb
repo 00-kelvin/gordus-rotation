{
  "nbformat": 4,
  "nbformat_minor": 0,
  "metadata": {
    "colab": {
      "provenance": []
    },
    "kernelspec": {
      "name": "python3",
      "display_name": "Python 3"
    },
    "language_info": {
      "name": "python"
    }
  },
  "cells": [
    {
      "cell_type": "code",
      "execution_count": null,
      "metadata": {
        "colab": {
          "base_uri": "https://localhost:8080/"
        },
        "id": "j-iJgCrUvsyH",
        "outputId": "e772f716-8512-4b91-f016-8c4206da27ae"
      },
      "outputs": [
        {
          "output_type": "stream",
          "name": "stdout",
          "text": [
            "Mounted at /content/drive\n"
          ]
        }
      ],
      "source": [
        "import numpy as np\n",
        "import matplotlib.pyplot as plt\n",
        "import os\n",
        "import csv\n",
        "import re\n",
        "from google.colab import drive\n",
        "drive.mount('/content/drive')"
      ]
    },
    {
      "cell_type": "markdown",
      "source": [
        "# New Section"
      ],
      "metadata": {
        "id": "zFfz4xhFCIYD"
      }
    },
    {
      "cell_type": "code",
      "source": [
        "# Get the current working directory\n",
        "path = 'drive/My Drive/Colab Notebooks'\n",
        "\n",
        "print(path)\n",
        "\n",
        "# Open files\n",
        "filename = path+'/Udiv-Lelegans.anchors.no-interanchors.no-local.txt'\n",
        "with open(filename) as f:\n",
        "    reader = csv.reader(f, delimiter=\"\\t\")\n",
        "    Udiv_Lelegans_data = list(reader)\n",
        "\n",
        "filename = path+'/Udiv-Dplan.anchors.unfiltered.txt'\n",
        "with open(filename) as f:\n",
        "    reader = csv.reader(f, delimiter=\"\\t\")\n",
        "    Udiv_Dplan_data = list(reader)\n",
        "\n",
        "filename = path+'/Udiv-Mbourn.anchors.unfiltered.txt'\n",
        "with open(filename) as f:\n",
        "    reader = csv.reader(f, delimiter=\"\\t\")\n",
        "    Udiv_Mbourn_data = list(reader)\n",
        "\n",
        "filename = path+'/sex_genes.txt'\n",
        "with open(filename) as f:\n",
        "    reader = csv.reader(f, delimiter=\"\\t\")\n",
        "    sex_list = list(reader)\n",
        "\n"
      ],
      "metadata": {
        "colab": {
          "base_uri": "https://localhost:8080/"
        },
        "id": "jHfQsVILwAHZ",
        "outputId": "9b02c84f-dc24-48fa-d537-7b41537d9d3b"
      },
      "execution_count": null,
      "outputs": [
        {
          "output_type": "stream",
          "name": "stdout",
          "text": [
            "drive/My Drive/Colab Notebooks\n"
          ]
        }
      ]
    },
    {
      "cell_type": "code",
      "source": [
        "# Sex scaffold IDs\n",
        "\n",
        "Lelegans_sex = 'chr_1','chr_9'\n",
        "Dplan_sex = 'chrom-5','chrom-12'\n",
        "Mbourn_sex = 'X1', 'X2'\n",
        "\n"
      ],
      "metadata": {
        "id": "GKVwtBWZ7RcG"
      },
      "execution_count": null,
      "outputs": []
    },
    {
      "cell_type": "code",
      "source": [
        "def sex_search(gene_list, sex_list):\n",
        "\n",
        "  genes_found = []\n",
        "  for count, gene in enumerate(gene_list):\n",
        "\n",
        "    r = count % 100\n",
        "    if r==0:\n",
        "      print(count)\n",
        "    for line in sex_list:\n",
        "      if bool(re.search(line[0], gene)):\n",
        "        genes_found.append(gene)\n",
        "        break\n",
        "        \n",
        "\n",
        "  return genes_found\n"
      ],
      "metadata": {
        "id": "l29N50wa8cfn"
      },
      "execution_count": null,
      "outputs": []
    },
    {
      "cell_type": "code",
      "source": [
        "def search_scaffolds(data,sex_scaffolds,sex_list):\n",
        "\n",
        "  sex_list = []\n",
        "  synteny_list = []\n",
        "\n",
        "  line = 0\n",
        "  while (line < len(data)):\n",
        "    begin = 0\n",
        "    last = 0\n",
        "    \n",
        "    if bool(re.fullmatch('scaffold_3', data[line][0])) or bool(re.fullmatch('scaffold_10', data[line][0])):\n",
        "\n",
        "      if bool(re.search(sex_scaffolds[0], data[line][3])) or bool(re.search(sex_scaffolds[1], data[line][3])):\n",
        "          \n",
        "        synteny_list.append(data[line][7])\n",
        "        sex_gene = sex_search(data[line][7], sex_list)\n",
        "\n",
        "        if sex_gene:\n",
        "          sex_list.append(sex_gene)\n",
        "    \n",
        "    line += 1\n",
        "\n",
        "  return sex_list, synteny_list\n",
        "\n"
      ],
      "metadata": {
        "id": "1tkTJh_i9Qmv"
      },
      "execution_count": null,
      "outputs": []
    },
    {
      "cell_type": "code",
      "source": [
        "def make_gene_list(gene_start, gene_end):\n",
        "\n",
        "  genes = list(np.arange(gene_start,gene_end+1))\n",
        "\n",
        "  for count, x in enumerate(genes):\n",
        "    genes[count] = 'mRNA'+str(genes[count])\n",
        "\n",
        "  return genes"
      ],
      "metadata": {
        "id": "UGlzi-ShgZ7S"
      },
      "execution_count": null,
      "outputs": []
    },
    {
      "cell_type": "code",
      "source": [
        "def search_scaffolds2(data,sex_scaffolds):\n",
        "\n",
        "  synteny_list = []\n",
        "\n",
        "  line = 0\n",
        "  while (line < len(data)):\n",
        "\n",
        "    if bool(re.fullmatch('#block begin', data[line][0])):\n",
        "      if bool(re.fullmatch('scaffold_3', data[line+1][0])) or bool(re.fullmatch('scaffold_10', data[line+1][0])):\n",
        "        if bool(re.search(sex_scaffolds[0], data[line+1][3])) or bool(re.search(sex_scaffolds[1], data[line+1][3])):\n",
        "\n",
        "          gene_start = data[line+1][7]\n",
        "          gene_start = int(gene_start[4:])\n",
        "    \n",
        "    if bool(re.fullmatch('#block end', data[line][0])):\n",
        "      if bool(re.fullmatch('scaffold_3', data[line-1][0])) or bool(re.fullmatch('scaffold_10', data[line-1][0])):\n",
        "        if bool(re.search(sex_scaffolds[0], data[line-1][3])) or bool(re.search(sex_scaffolds[1], data[line-1][3])):\n",
        "\n",
        "          gene_end = data[line-1][7]\n",
        "          gene_end = int(gene_end[4:])\n",
        "\n",
        "          gene_list = make_gene_list(gene_start, gene_end)\n",
        "\n",
        "          if synteny_list:\n",
        "            synteny_list = synteny_list + gene_list\n",
        "          else:\n",
        "            synteny_list = gene_list\n",
        "    \n",
        "    line += 1\n",
        "\n",
        "  return synteny_list\n",
        "\n"
      ],
      "metadata": {
        "id": "YBIgK-ube3Mp"
      },
      "execution_count": null,
      "outputs": []
    },
    {
      "cell_type": "code",
      "source": [
        "Lelegans_synteny_list = search_scaffolds2(Udiv_Lelegans_data,Lelegans_sex)\n",
        "Dplan_synteny_list = search_scaffolds2(Udiv_Dplan_data,Dplan_sex)\n",
        "Mbourn_synteny_list = search_scaffolds2(Udiv_Mbourn_data,Mbourn_sex)\n",
        "\n",
        "\n",
        "Lelegans_synteny_list = list(set(Lelegans_synteny_list)) \n",
        "Dplan_synteny_list = list(set(Dplan_synteny_list)) \n",
        "Mbourn_synteny_list = list(set(Mbourn_synteny_list)) \n",
        "\n",
        "#Lelegans_sex_list = sex_search(Lelegans_synteny_list[0:100], sex_list)\n",
        "#Dplan_sex_list = sex_search(Dplan_synteny_list, sex_list)\n",
        "#Lelegans_sex_list = sex_search(Mbourn_synteny_list[0:100], sex_list)\n"
      ],
      "metadata": {
        "id": "mfDg7K8ZB4_C"
      },
      "execution_count": null,
      "outputs": []
    },
    {
      "cell_type": "code",
      "source": [
        "\n",
        "Dplan_new_list = list(set(Dplan_synteny_list)) \n",
        "Lelegans_new_list = list(set(Lelegans_synteny_list)) \n",
        "Mbourn_new_list = list(set(Mbourn_synteny_list)) \n",
        "\n",
        "print(len(Dplan_synteny_list))\n",
        "print(len(Dplan_new_list))\n",
        "print(len(Lelegans_synteny_list))\n",
        "print(len(Lelegans_new_list))\n",
        "print(len(Mbourn_synteny_list))\n",
        "print(len(Mbourn_new_list))\n",
        "\n"
      ],
      "metadata": {
        "colab": {
          "base_uri": "https://localhost:8080/"
        },
        "id": "mhGhUQ01bD-H",
        "outputId": "1ded9a97-92a4-4306-ff08-6d768ddf2ad1"
      },
      "execution_count": null,
      "outputs": [
        {
          "output_type": "stream",
          "name": "stdout",
          "text": [
            "5818\n",
            "5818\n",
            "6367\n",
            "6367\n",
            "5403\n",
            "5403\n"
          ]
        }
      ]
    }
  ]
}